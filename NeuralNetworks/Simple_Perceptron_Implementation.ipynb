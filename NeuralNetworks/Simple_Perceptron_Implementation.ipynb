{
 "cells": [
  {
   "cell_type": "markdown",
   "metadata": {},
   "source": [
    "# SIMPLE PERCEPTRON SELF IMPLEMENTATION TO ILLUSTRATE.\n",
    "## ING Jeison Robles Arias.\n",
    "\n",
    "The next implementation is based on the concepts and theoretical concepts studied on the Hagan Book:\n",
    "\n",
    "Hagan M.T., Demuth, H.B., Beale, M.H.., & De Jesus, O (2014). Neural network design (2nd ed.). Stillwater, OK: Martin Hagan.\n",
    "\n",
    "And basically follows the most trasendental concepts on NN Design. Here I Illustrate the perceptron:"
   ]
  },
  {
   "cell_type": "markdown",
   "metadata": {},
   "source": [
    "<img src = 'perceptron.png'>"
   ]
  },
  {
   "cell_type": "markdown",
   "metadata": {},
   "source": [
    "That is going to be executed with a simple hardlim functions as its activation function (understanding that another approaches with relu, etc could be tested.)"
   ]
  },
  {
   "cell_type": "markdown",
   "metadata": {},
   "source": [
    "<img src = hardlim.png>"
   ]
  },
  {
   "cell_type": "code",
   "execution_count": 6,
   "metadata": {},
   "outputs": [],
   "source": [
    "import numpy as np\n",
    "import time"
   ]
  },
  {
   "cell_type": "code",
   "execution_count": 4,
   "metadata": {},
   "outputs": [],
   "source": [
    "\n",
    "#Define an step function for the activation stage\n",
    "def step_function(x):\n",
    "    return 1 if x>=0 else 0"
   ]
  },
  {
   "cell_type": "code",
   "execution_count": 12,
   "metadata": {},
   "outputs": [],
   "source": [
    "class Perceptron:\n",
    "\n",
    "    def __init__(self, input_size, learning_rate=0.1, epochs = 1000, patience = 10):\n",
    "        self.weights = np.zeros(input_size + 1) # +1 for bias\n",
    "        self.learning_rate = learning_rate\n",
    "        self.epochs = epochs\n",
    "        self.patience = patience\n",
    "        \n",
    "    def predict(self, inputs):\n",
    "        weighted_sum = np.dot(inputs, self.weights[1:]) + self.weights[0]\n",
    "        return step_function(weighted_sum)\n",
    "    \n",
    "    def accuracy(self, test_inputs, test_labels):\n",
    "        correct_prediction = 0\n",
    "        total_predictions = len(test_labels)\n",
    "\n",
    "        for inputs, actual_label in zip(test_inputs, test_labels):\n",
    "            prediction = self.predict(inputs)\n",
    "            if prediction == actual_label:\n",
    "                correct_prediction += 1\n",
    "        #Calculate the accuracy as a percentage way.\n",
    "        return (correct_prediction / total_predictions) * 100\n",
    "\n",
    "    def train(self, training_inputs, labels):\n",
    "        best_accuracy = 0\n",
    "        patience_counter = 0\n",
    "        \n",
    "        for epoch in range(self.epochs):\n",
    "            for inputs, label in zip(training_inputs, labels):\n",
    "                prediction = self.predict(inputs)\n",
    "                self.weights[1:] += self.learning_rate * (label - prediction) * inputs\n",
    "                self.weights[0] += self.learning_rate * (label - prediction)\n",
    "\n",
    "            accuracy = self.accuracy(training_inputs, labels)\n",
    "            print(f\"Epoch {epoch + 1}/{self.epochs} - Accuracy: {accuracy:.2f}%\")\n",
    "\n",
    "            if accuracy > best_accuracy:\n",
    "                best_accuracy = accuracy\n",
    "                patience_counter = 0\n",
    "            else:\n",
    "                patience_counter += 1\n",
    "\n",
    "            \n",
    "            #Stopping training if no improvement after patience epochs\n",
    "            if patience_counter >= self.patience:\n",
    "                print(f\"Early stopping at epoch {epoch+1}\")\n",
    "                break\n",
    "\n",
    "    "
   ]
  },
  {
   "cell_type": "code",
   "execution_count": 14,
   "metadata": {},
   "outputs": [
    {
     "name": "stdout",
     "output_type": "stream",
     "text": [
      "Starting Learning Process...\n",
      "Epoch 1/100 - Accuracy: 25.00%\n",
      "Epoch 2/100 - Accuracy: 50.00%\n",
      "Epoch 3/100 - Accuracy: 100.00%\n",
      "Epoch 4/100 - Accuracy: 100.00%\n",
      "Epoch 5/100 - Accuracy: 100.00%\n",
      "Epoch 6/100 - Accuracy: 100.00%\n",
      "Epoch 7/100 - Accuracy: 100.00%\n",
      "Epoch 8/100 - Accuracy: 100.00%\n",
      "Epoch 9/100 - Accuracy: 100.00%\n",
      "Epoch 10/100 - Accuracy: 100.00%\n",
      "Epoch 11/100 - Accuracy: 100.00%\n",
      "Epoch 12/100 - Accuracy: 100.00%\n",
      "Epoch 13/100 - Accuracy: 100.00%\n",
      "Early stopping at epoch 13\n",
      "Testing Perceptron on AND gate:\n",
      "[0 0] -> 0\n",
      "[0 1] -> 0\n",
      "[1 0] -> 0\n",
      "[1 1] -> 1\n"
     ]
    }
   ],
   "source": [
    "if __name__== \"__main__\":\n",
    "    training_inputs = np.array([[0,0],[0,1],[1,0],[1,1]])\n",
    "    labels = np.array([0,0,0,1])\n",
    "\n",
    "    print(\"Starting Learning Process...\")\n",
    "    perceptron =  Perceptron(input_size=2, epochs=100, patience=10)\n",
    "\n",
    "    perceptron.train(training_inputs, labels)\n",
    "\n",
    "    print(\"Testing Perceptron on AND gate:\")\n",
    "    for inputs in training_inputs:\n",
    "        print(f\"{inputs} -> {perceptron.predict(inputs)}\")\n",
    "        time.sleep(1)"
   ]
  },
  {
   "cell_type": "markdown",
   "metadata": {},
   "source": [
    "Here one can see that event the NN having be equiped with an strong learning process, the easy the example allows us to learn with high accuracy in just 13 executed epocs."
   ]
  }
 ],
 "metadata": {
  "kernelspec": {
   "display_name": "myenv",
   "language": "python",
   "name": "python3"
  },
  "language_info": {
   "codemirror_mode": {
    "name": "ipython",
    "version": 3
   },
   "file_extension": ".py",
   "mimetype": "text/x-python",
   "name": "python",
   "nbconvert_exporter": "python",
   "pygments_lexer": "ipython3",
   "version": "3.12.5"
  }
 },
 "nbformat": 4,
 "nbformat_minor": 2
}
