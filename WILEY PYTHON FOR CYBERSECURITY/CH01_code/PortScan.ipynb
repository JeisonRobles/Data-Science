{
 "cells": [
  {
   "cell_type": "markdown",
   "metadata": {},
   "source": [
    "# PortScan"
   ]
  },
  {
   "cell_type": "code",
   "execution_count": 8,
   "metadata": {},
   "outputs": [
    {
     "name": "stdout",
     "output_type": "stream",
     "text": [
      "Open ports at 8.8.8.8:\n",
      "443\n",
      "53\n",
      "DNS Server at 8.8.8.8\n"
     ]
    }
   ],
   "source": [
    "from scapy.all import *\n",
    "import ipaddress\n",
    "\n",
    "ports = [25,80,53,443,445,8080,8443]\n",
    "\n",
    "def SynScan(host):\n",
    "    ans,unans = sr(\n",
    "        IP(dst=host)/\n",
    "        TCP(sport=33333,dport=ports,flags=\"S\")\n",
    "        ,timeout=2,verbose=0)\n",
    "    print(\"Open ports at %s:\" % host)\n",
    "    for (s,r,) in ans:\n",
    "        if s[TCP].dport == r[TCP].sport and r[TCP].flags==\"SA\":\n",
    "            print(s[TCP].dport)\n",
    "\n",
    "def DNSScan(host):\n",
    "    ans,unans = sr(\n",
    "        IP(dst=host)/\n",
    "        UDP(dport=53)/\n",
    "        DNS(rd=1,qd=DNSQR(qname=\"google.com\"))\n",
    "        \n",
    "        ,timeout=2,verbose=0)\n",
    "    if ans and ans[UDP]:\n",
    "        print(\"DNS Server at %s\"%host)\n",
    "    \n",
    "host = input(\"Enter IP Address: \")\n",
    "try:\n",
    "    ipaddress.ip_address(host)\n",
    "except:\n",
    "    print(\"Invalid address\")\n",
    "    exit(-1)\n",
    "\n",
    "SynScan(host)\n",
    "DNSScan(host)\n"
   ]
  },
  {
   "cell_type": "code",
   "execution_count": 1,
   "metadata": {},
   "outputs": [
    {
     "name": "stdout",
     "output_type": "stream",
     "text": [
      "Collecting scapy\n",
      "  Downloading scapy-2.5.0.tar.gz (1.3 MB)\n",
      "     ---------------------------------------- 1.3/1.3 MB 1.9 MB/s eta 0:00:00\n",
      "  Preparing metadata (setup.py): started\n",
      "  Preparing metadata (setup.py): finished with status 'done'\n",
      "Building wheels for collected packages: scapy\n",
      "  Building wheel for scapy (setup.py): started\n",
      "  Building wheel for scapy (setup.py): finished with status 'done'\n",
      "  Created wheel for scapy: filename=scapy-2.5.0-py2.py3-none-any.whl size=1444340 sha256=f54cc575a610b1aeec34f8b99e77c69e5362d0de46d25124db2806ad2e941059\n",
      "  Stored in directory: c:\\users\\tan\\appdata\\local\\pip\\cache\\wheels\\8c\\44\\d2\\b83890f39bfbc74d0cea746a58fae7e712bb3b78cc6b67d5d6\n",
      "Successfully built scapy\n",
      "Installing collected packages: scapy\n",
      "Successfully installed scapy-2.5.0\n"
     ]
    }
   ],
   "source": [
    "!pip install scapy"
   ]
  },
  {
   "cell_type": "markdown",
   "metadata": {},
   "source": [
    "# HoneyScan"
   ]
  },
  {
   "cell_type": "code",
   "execution_count": 9,
   "metadata": {},
   "outputs": [],
   "source": [
    "from scapy.all import *\n",
    "\n",
    "ip = \"192.168.1.209\"\n",
    "ports = [53,80]\n",
    "honeys = [8080,8443]\n",
    "\n",
    "blocked = []\n",
    "\n",
    "def analyzePackets(p):\n",
    "    global blocked\n",
    "    if p.haslayer(IP):\n",
    "        response = Ether(src=p[Ether].dst,dst=p[Ether].src)/\\\n",
    "            IP(src=p[IP].dst,dst=p[IP].src)/\\\n",
    "            TCP(sport=p[TCP].dport,dport=p[TCP].sport,ack=p[TCP].seq+1)\n",
    "        source = p[IP].src\n",
    "    else:\n",
    "        response = Ether(src=p[Ether].dst,dst=p[Ether].src)/\\\n",
    "            IPv6(src=p[IPv6].dst,dst=p[IPv6].src)/\\\n",
    "            TCP(sport=p[TCP].dport,dport=p[TCP].sport,ack=p[TCP].seq+1)\n",
    "        source = p[IPv6].src\n",
    "        \n",
    "    port = p[TCP].dport\n",
    "    if port in honeys:\n",
    "        p.show()\n",
    "    if source in blocked:\n",
    "        if port in ports:\n",
    "            response[TCP].flags = \"RA\"\n",
    "        elif port in honeys: \n",
    "            response[TCP].flags = \"SA\"\n",
    "        sendp(response,verbose=False)\n",
    "    else:\n",
    "        if source not in ports:\n",
    "            blocked += source\n",
    "            if port in honeys:\n",
    "                response[TCP].flags = \"SA\"\n",
    "                sendp(response,verbose=False)\n",
    "\n",
    "f = \"dst host \"+ip+\" and tcp\"\n",
    "sniff(filter=f,prn=analyzePackets)"
   ]
  }
 ],
 "metadata": {
  "kernelspec": {
   "display_name": "Python 3",
   "language": "python",
   "name": "python3"
  },
  "language_info": {
   "codemirror_mode": {
    "name": "ipython",
    "version": 3
   },
   "file_extension": ".py",
   "mimetype": "text/x-python",
   "name": "python",
   "nbconvert_exporter": "python",
   "pygments_lexer": "ipython3",
   "version": "3.7.0"
  }
 },
 "nbformat": 4,
 "nbformat_minor": 2
}
